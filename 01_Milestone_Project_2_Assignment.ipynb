{
  "nbformat": 4,
  "nbformat_minor": 0,
  "metadata": {
    "kernelspec": {
      "display_name": "Python 3",
      "language": "python",
      "name": "python3"
    },
    "language_info": {
      "codemirror_mode": {
        "name": "ipython",
        "version": 3
      },
      "file_extension": ".py",
      "mimetype": "text/x-python",
      "name": "python",
      "nbconvert_exporter": "python",
      "pygments_lexer": "ipython3",
      "version": "3.8.3"
    },
    "colab": {
      "name": "01-Milestone Project 2 - Assignment.ipynb",
      "provenance": [],
      "collapsed_sections": [],
      "include_colab_link": true
    }
  },
  "cells": [
    {
      "cell_type": "markdown",
      "metadata": {
        "id": "view-in-github",
        "colab_type": "text"
      },
      "source": [
        "<a href=\"https://colab.research.google.com/github/Ashwith25/BlackJack-Game/blob/main/01_Milestone_Project_2_Assignment.ipynb\" target=\"_parent\"><img src=\"https://colab.research.google.com/assets/colab-badge.svg\" alt=\"Open In Colab\"/></a>"
      ]
    },
    {
      "cell_type": "markdown",
      "metadata": {
        "id": "PkeaHYF5I0aN"
      },
      "source": [
        "# Milestone Project 2 - Blackjack Game\n",
        "In this milestone project you will be creating a Complete BlackJack Card Game in Python.\n",
        "\n",
        "Here are the requirements:\n",
        "\n",
        "* You need to create a simple text-based [BlackJack](https://en.wikipedia.org/wiki/Blackjack) game\n",
        "* The game needs to have one player versus an automated dealer.\n",
        "* The player can stand or hit.\n",
        "* The player must be able to pick their betting amount.\n",
        "* You need to keep track of the player's total money.\n",
        "* You need to alert the player of wins, losses, or busts, etc...\n",
        "\n",
        "And most importantly:\n",
        "\n",
        "* **You must use OOP and classes in some portion of your game. You can not just use functions in your game. Use classes to help you define the Deck and the Player's hand. There are many right ways to do this, so explore it well!**\n",
        "\n",
        "\n",
        "Feel free to expand this game. Try including multiple players. Try adding in Double-Down and card splits! Remember to you are free to use any resources you want and as always:\n",
        "\n",
        "# HAVE FUN!"
      ]
    },
    {
      "cell_type": "code",
      "metadata": {
        "id": "RynyVTcxI0aQ"
      },
      "source": [
        "import random\n",
        "import sys"
      ],
      "execution_count": 1,
      "outputs": []
    },
    {
      "cell_type": "code",
      "metadata": {
        "id": "RhMPXXRUI0aW"
      },
      "source": [
        "suits = ('Hearts', 'Diamonds', 'Spades', 'Clubs')\n",
        "ranks = ('Two', 'Three', 'Four', 'Five', 'Six', 'Seven', 'Eight', 'Nine', 'Ten', 'Jack', 'Queen', 'King', 'Ace')\n",
        "values = {'Two':2, 'Three':3, 'Four':4, 'Five':5, 'Six':6, 'Seven':7, 'Eight':8, 'Nine':9, 'Ten':10, 'Jack':10,\n",
        "         'Queen':10, 'King':10, 'Ace':11}"
      ],
      "execution_count": 2,
      "outputs": []
    },
    {
      "cell_type": "code",
      "metadata": {
        "id": "lCcEBAjXI0ab"
      },
      "source": [
        "class Card:\n",
        "    def __init__(self, suit, rank):\n",
        "        self.rank = rank\n",
        "        self.suit = suit\n",
        "        \n",
        "    def __str__(self):\n",
        "        return self.rank+\" of \"+self.suit  #names the card when asked to print it."
      ],
      "execution_count": 3,
      "outputs": []
    },
    {
      "cell_type": "code",
      "metadata": {
        "id": "j036RoTSI0ai"
      },
      "source": [
        "class Deck:\n",
        "    def __init__(self):\n",
        "        self.deck=[]\n",
        "        for i in suits:\n",
        "            for j in ranks:\n",
        "                self.deck.append(Card(i,j)) #instanciates the Card class.\n",
        "    def shuffle(self):\n",
        "        #This function shuffles the the deck.\n",
        "        random.shuffle(self.deck)        "
      ],
      "execution_count": 4,
      "outputs": []
    },
    {
      "cell_type": "code",
      "metadata": {
        "id": "URo4s3nhI0am"
      },
      "source": [
        "class distribute:\n",
        "    def __init__(self):\n",
        "        self.playcards=[]\n",
        "        self.value=0\n",
        "        self.ace=0\n",
        "\n",
        "    def add_card(self,card):\n",
        "        self.playcards.append(card) #list of cards which are distributed to the players\n",
        "        self.value+=values[card.rank]\n",
        "        #below block of code check for the variation in Ace. \n",
        "        if card.rank==\"Ace\":\n",
        "            self.ace+=1 #counts the number of Aces in the player's/dealer's hand\n",
        "        if self.ace>0 and self.value>21:\n",
        "            self.value-=10 #will assign the value 1 to Ace if the final value exceeds 21\n",
        "            self.ace-=1\n"
      ],
      "execution_count": 5,
      "outputs": []
    },
    {
      "cell_type": "code",
      "metadata": {
        "id": "sm9Nt1n-I0au"
      },
      "source": [
        "def bet_input():\n",
        "    #Will ensure that the bet amount is in proper format.\n",
        "    while 1:\n",
        "        try:\n",
        "            bet=int(input(\"Enter your bet: \"))\n",
        "        except:\n",
        "            print(\"Please enter an integer value\")\n",
        "        else:\n",
        "            if bet<10:\n",
        "                print(\"Minimum bet is 10\")\n",
        "            elif bet>chips:\n",
        "                print(\"Bet amount exceeded available chips\")\n",
        "            else:\n",
        "                return bet"
      ],
      "execution_count": 6,
      "outputs": []
    },
    {
      "cell_type": "code",
      "metadata": {
        "id": "FRZL1SM_bomV"
      },
      "source": [
        "def display_hit():\n",
        "    #displays the final standing result including the final value.\n",
        "    print(\"\\nDealer hand : \")\n",
        "    for i,j in enumerate(dealer_hand.playcards):\n",
        "        if i==1:\n",
        "            print(\"<Card-Hidden>\") #Hides the 2nd card of the dealer.\n",
        "            continue\n",
        "        print(j)\n",
        "    print(\"\\nPlayer hand : \")\n",
        "    for i in player_hand.playcards:\n",
        "        print(i)\n",
        "    print(\"Player value :\", player_hand.value)"
      ],
      "execution_count": 7,
      "outputs": []
    },
    {
      "cell_type": "code",
      "metadata": {
        "id": "OVeyjG04ZGsz"
      },
      "source": [
        "def display():\n",
        "    #displays the final standing result including the final value.\n",
        "    print(\"\\nDealer hand : \")\n",
        "    for i in dealer_hand.playcards:\n",
        "        print(i)\n",
        "    print(\"Dealer value :\", dealer_hand.value)\n",
        "    print(\"\\nPlayer hand : \")\n",
        "    for i in player_hand.playcards:\n",
        "        print(i)\n",
        "    print(\"Player value :\", player_hand.value)"
      ],
      "execution_count": 8,
      "outputs": []
    },
    {
      "cell_type": "code",
      "metadata": {
        "id": "0vgo3tClZUz0"
      },
      "source": [
        "def dealer_hit(obj):\n",
        "    global flag\n",
        "    #dealer keeps on picking the cards until the final value exceeds 17\n",
        "    while obj.value<17:\n",
        "        obj.add_card(d.deck.pop())\n",
        "    if obj.value>21: #if value>21, dealer will get bust\n",
        "        print(\"Dealer bust\")\n",
        "        flag=2\n"
      ],
      "execution_count": 9,
      "outputs": []
    },
    {
      "cell_type": "code",
      "metadata": {
        "id": "YQl0sBSmI0az"
      },
      "source": [
        "print(\"Welcome to War BlackJack!\")\n",
        "if input(\"Want Manual?(y/n) \").lower()==\"y\":\n",
        "    print(\"\\nHow to play BlackJack:\")\n",
        "    print(\"Dealer will distribute 2 cards to player and will keep one card with herself.\")\n",
        "    print(\"All Number cards will have value corresponding to its number\")\n",
        "    print(\"All Face cards will have value 10\")\n",
        "    print(\"Aces can have value either 1 or 11 depending on the situation\")\n",
        "\n",
        "    print(\"THE AIM IS TO KEEP THE VALUE AS CLOSE TO 21 AS POSSIBLE \")\n",
        "    print(\"If player's value exactly matches 21, that is a BLACKJACK! and the player will be rewarded 150% of the bet amount\")\n",
        "    print(\"If player's value is greater than the dealer's value, given that the value is not exceeding 21, the player is awarded 100% of the bet amount\")\n",
        "    print(\"If draw, the bet is returned\")\n",
        "    print(\"If value exceeds 21, this is BUST and the player lose\")\n",
        "\n",
        "    print(\"-\"*20)\n",
        "    print(\"About hitting and standing:\")\n",
        "    print(\"If player opts to hit, he will be given another card\")\n",
        "    print(\"If player opts to stand, dealer will keep on picking the cards until her final value exceeds 17\")\n",
        "    print(\"If the value of dealer exceeds 21 when player stands, the player wins\")\n",
        "    print(\"*\"*20)\n",
        "    print(\"\\nHow to play War:\")\n",
        "    print(\"Player and dealer, both will be given a card\")\n",
        "    print(\"Whoever's card value is greater, wins\")\n",
        "play=True\n",
        "chips=100\n",
        "while play:\n",
        "    if chips<0:\n",
        "        print(\"No chips available\")\n",
        "        print(\"Thank you for playing\")\n",
        "        break\n",
        "    flag=1\n",
        "    print(f\"\\nYou have {chips} chips\")\n",
        "    bet = bet_input()\n",
        "    chips-=bet\n",
        "    d=Deck()  #creates a fresh deck\n",
        "    d.shuffle() #randomly shuffles the newly created deck.\n",
        "    if input(\"Want to shuffle again?(y/n) \")==\"y\":\n",
        "        d.shuffle()\n",
        "    player_hand = distribute() #Creates a player profile\n",
        "    player_hand.add_card(d.deck.pop()) #Provides 1st card to player.\n",
        "    \n",
        "    dealer_hand = distribute() #creates the dealer profile\n",
        "    dealer_hand.add_card(d.deck.pop()) #Provides 1st card to dealer.\n",
        "    \n",
        "    \n",
        "    #If opts for WAR\n",
        "    if chips<10:\n",
        "        print(\"Minimum requirement not satisfied for WAR\")\n",
        "    elif input(\"Want to war?(y/n) \").lower()==\"y\":\n",
        "        bet1=bet_input()\n",
        "        chips-=bet1\n",
        "\n",
        "        if player_hand.value > dealer_hand.value:\n",
        "            display()\n",
        "            print(\"You won the War!\")\n",
        "            chips+=(2*bet1)\n",
        "        elif player_hand.value < dealer_hand.value:\n",
        "            display()\n",
        "            print(\"You lost the War\")\n",
        "        else:\n",
        "            display()\n",
        "            print(\"Draw\")\n",
        "            chips+=bet1\n",
        "        print(\"\\nAvailable chips :\",chips)\n",
        "\n",
        "    player_hand.add_card(d.deck.pop()) #Provides 2nd card to player.\n",
        "    dealer_hand.add_card(d.deck.pop()) #Provides 2nd card to dealer(hidden)\n",
        "\n",
        "    cont=True \n",
        "    if dealer_hand.value==21:\n",
        "        print(\"\\nYou lose, Dealer's blackjack!\")\n",
        "        display()\n",
        "        if chips<10:\n",
        "            print(\"Not enough coins! minimum equirement is 10\")\n",
        "            print(\"Thank you for playing\")\n",
        "            print(\"Chips in-hand:\",chips)\n",
        "            break\n",
        "        elif input(\"want to continue?(y/n)\").lower()!=\"n\":\n",
        "            continue\n",
        "        else:\n",
        "            print(\"Thank you for playing\")\n",
        "            break\n",
        "    \n",
        "    display_hit() #shows the card which was distributed.\n",
        "    # below while loop runs the hit/stand functionality until either the players busts or if he/she opts to stand. (Also checking for valid input)\n",
        "    while cont:\n",
        "        choice = input(\"\\nEnter H to hit or Enter S to stand: \").lower()\n",
        "        if choice==\"h\": #if player opts for hit\n",
        "            player_hand.add_card(d.deck.pop()) #provides another card to player\n",
        "            display_hit() #displays newly distributed sets.\n",
        "            if player_hand.value>21:\n",
        "                print(\"You Bust\")\n",
        "                flag=0\n",
        "                cont=False\n",
        "\n",
        "        elif choice==\"s\": #if player opts for stand\n",
        "            cont=False\n",
        "            dealer_hit(dealer_hand) #dealer will pick the cards now.\n",
        "            display() #display the new distribution along with final value \n",
        "        else:\n",
        "            print(\"Enter valid input!\")\n",
        "\n",
        "    if flag==1:\n",
        "        if player_hand.value==21:\n",
        "            print(\"Blackjack!\")\n",
        "            #if the player value equals 21, the player will be getting 150% of the bet amount. (excluding the original bet)\n",
        "            chips+=int(2.5*bet) #bet_amount + (bet_amount*1.5)\n",
        "        elif dealer_hand.value > player_hand.value:\n",
        "            print(\"You Lose\")\n",
        "        elif dealer_hand.value < player_hand.value:\n",
        "            #if the player wins, he/she will be getting 100% of the bet amount. (excluding the original bet)\n",
        "            print(\"You win\") #bet_amount + (bet_amount*1.0)\n",
        "            chips+=int(2*bet)\n",
        "        else:\n",
        "            print(\"Draw\") #if draw, bet amount is returned\n",
        "            chips+=bet\n",
        "            \n",
        "    elif flag==2:\n",
        "        if player_hand.value==21:\n",
        "            print(\"Blackjack!\")\n",
        "            #if the player value equals 21, the player will be getting 150% of the bet amount. (excluding the original bet)\n",
        "            chips+=int(2.5*bet) #bet_amount + (bet_amount*1.5)\n",
        "        elif dealer_hand.value > player_hand.value:\n",
        "            #if the player wins, he/she will be getting 100% of the bet amount. (excluding the original bet)\n",
        "            print(\"You win\") #bet_amount + (bet_amount*1.0)\n",
        "            chips+=int(2*bet)\n",
        "    print(\"Available chips:\", chips)\n",
        "\n",
        "\n",
        "    if chips<10:\n",
        "        print(\"Not enough coins! minimum equirement is 10\")\n",
        "        print(\"Thank you for playing\")\n",
        "        print(\"Chips in-hand:\",chips)\n",
        "        break\n",
        "\n",
        "    elif input(\"Want to continue?(y/n)\").lower()==\"n\": #asks the player if he/she wants to continue or not.\n",
        "        print(\"Thank you for playing\")\n",
        "        break"
      ],
      "execution_count": null,
      "outputs": []
    }
  ]
}